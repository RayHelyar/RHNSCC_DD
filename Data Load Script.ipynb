{
    "metadata": {
        "kernelspec": {
            "name": "SQL",
            "display_name": "SQL",
            "language": "sql"
        },
        "language_info": {
            "name": "sql",
            "version": ""
        }
    },
    "nbformat_minor": 2,
    "nbformat": 4,
    "cells": [
        {
            "cell_type": "markdown",
            "source": [
                "# **DATA Loading Scripts:**\n",
                "\n",
                "Below are the scripts that will allow me to load a large amount of data from one Database to a newer one. \n",
                "\n",
                "Code Breakdown:\n",
                "\n",
                "- My first step is to include a USE clase to verify that I am in fact working with the correct Database.\n",
                "- Now to start the process you will include the INSERT INTO clause while adding the correct columns in the following brackets.\n",
                "- In the SELECT location, this details what columns you want to export the data from, in the case of the f.Sales table. \n",
                "    - I have data coming in from 3 different tables which are possible by using the INNER JOIN clause.\n",
                "    - This allows me to connect all three tables into one via the select caluse and verify the data I require and want to extract into my f.Sales data\n",
                "- In the case of the Sales Person, an concatenate was requried as the Northwind\\_2023 information has the first name and last name in separate fields.\n",
                "- TotalSales required calculations as the NW\\_2023 DB had UnitPrice and Quantity separate."
            ],
            "metadata": {
                "azdata_cell_guid": "2fe916ca-8d56-45e6-8c07-bf8841659d2e"
            },
            "attachments": {}
        },
        {
            "cell_type": "code",
            "source": [
                "USE RHNSCC_DD;\r\n",
                "GO\r\n",
                "\r\n",
                "INSERT INTO.dim.Products (ProductID, Product, ProductCategory)\r\n",
                "SELECT prod.ProductID + 1000\r\n",
                "\t , prod.ProductName\r\n",
                "\t , cat.CategoryName\r\n",
                "FROM NorthWind_2023.dbo.Products prod\r\n",
                "\tINNER JOIN NorthWind_2023.dbo.Categories cat\r\n",
                "\tON prod.CategoryID = cat.CategoryID\r\n",
                "\r\n",
                "\r\n",
                "INSERT INTO f.Sales\t(Product, SalesPerson, SalesDate, TotalSales)\r\n",
                "Select o.OrderID\r\n",
                "\t , CONCAT(emp.FirstName, ' ', emp.LastName)\r\n",
                "\t , OrderDate\r\n",
                "\t , od.UnitPrice * od.Quantity\r\n",
                "FROM NorthWind_2023.dbo.Orders o\r\n",
                "\tINNER JOIN NorthWind_2023.dbo.OrderDetails od\r\n",
                "\tON o.OrderID = od.OrderID\r\n",
                "\tINNER JOIN NorthWind_2023.dbo.Employees emp\r\n",
                "\tON o.EmployeeID = emp.EmployeeID"
            ],
            "metadata": {
                "azdata_cell_guid": "1cdb9375-6bd0-42c6-9267-24ae105e90cc",
                "language": "sql"
            },
            "outputs": [],
            "execution_count": null
        },
        {
            "cell_type": "markdown",
            "source": [
                ""
            ],
            "metadata": {
                "azdata_cell_guid": "c66f665d-187b-4df0-a185-8e3dd670a702"
            }
        },
        {
            "cell_type": "code",
            "source": [
                ""
            ],
            "metadata": {
                "azdata_cell_guid": "60124b56-44a7-43a2-b216-3c7a3958e184",
                "language": "sql"
            },
            "outputs": [],
            "execution_count": null
        }
    ]
}