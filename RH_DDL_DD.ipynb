{
    "metadata": {
        "kernelspec": {
            "name": "SQL",
            "display_name": "SQL",
            "language": "sql"
        },
        "language_info": {
            "name": "sql",
            "version": ""
        }
    },
    "nbformat_minor": 2,
    "nbformat": 4,
    "cells": [
        {
            "cell_type": "markdown",
            "source": [
                "# **DDL - Creating & Altering - Schemas & Tables**\n",
                "\n",
                "In this first portion of code we are going to create Schemas, these will combine and organize the future tables into two distinct types of data: \n",
                "\n",
                "1. **Dimensions (dim)**\n",
                "2. **Facts (f)**\n",
                "\n",
                "Code Breakdown:\n",
                "\n",
                "- First portion is code is making sure that the correct Database is being used; this is not required however because it is such an easy addition, I personally will add this to all my scripts.\n",
                "- Second is making sure that these schemas haven't already been created into the database; and if they are, no futher processes will be complete.\n",
                "- Lastly this is the creation of the schemas; the facts schema being shortened to 'f' & Dimensions Schemas being shortened to 'dim'."
            ],
            "metadata": {
                "azdata_cell_guid": "b03a03b3-936d-4520-a833-d2fad21726a8"
            },
            "attachments": {}
        },
        {
            "cell_type": "code",
            "source": [
                "USE RHNSCC_DD;\r\n",
                "GO\r\n",
                "\r\n",
                "IF NOT EXISTS (SELECT * FROM sys.schemas WHERE name = 'f' ) \r\n",
                "BEGIN\r\n",
                "\tEXEC sp_executesql N'CREATE SCHEMA f AUTHORIZATION dbo;'\r\n",
                "END\r\n",
                ";\r\n",
                "\r\n",
                "GO\r\n",
                "\r\n",
                "IF NOT EXISTS (SELECT * FROM sys.schemas WHERE name = 'dim' ) \r\n",
                "BEGIN\r\n",
                "\tEXEC sp_executesql N'CREATE SCHEMA dim AUTHORIZATION dbo;'\r\n",
                "END\r\n",
                ";\r\n",
                "\r\n",
                "GO"
            ],
            "metadata": {
                "azdata_cell_guid": "40ea7d5e-00ee-45e8-8776-2d9564f1c458",
                "language": "sql"
            },
            "outputs": [
                {
                    "output_type": "display_data",
                    "data": {
                        "text/html": "Commands completed successfully."
                    },
                    "metadata": {}
                },
                {
                    "output_type": "display_data",
                    "data": {
                        "text/html": "Commands completed successfully."
                    },
                    "metadata": {}
                },
                {
                    "output_type": "display_data",
                    "data": {
                        "text/html": "Commands completed successfully."
                    },
                    "metadata": {}
                },
                {
                    "output_type": "display_data",
                    "data": {
                        "text/html": "Total execution time: 00:00:00.006"
                    },
                    "metadata": {}
                }
            ],
            "execution_count": 5
        },
        {
            "cell_type": "markdown",
            "source": [
                "### **1.** The next portion of code is the creation of the two **Dimansion Tables**: **dim.Products** and **dim.People**.\n",
                "\n",
                "Code Breakdown:\n",
                "\n",
                "- Similar to any created query first I start with USE Database so that I can confirm that the created tables are being added to the correct DB.\n",
                "    \n",
                "- Next Code up is the IF NOT EXISTS code which confirms that prior to the creation of the Table, the designated DB does not have a Table named Products in the dim Schema. While this isn't required, it does allow for the query to be executed while not giving errors, essentially making not being done if there is Table in the DB already.\n",
                "    \n",
                "- The Create Table code is then added in. This section includes:\n",
                "    \n",
                "    - the Schema & Table name you are requesting (i.e. dim.Products) and\n",
                "    - The row titles. Within this you will also include:\n",
                "        - The Data Type, the length of units (50) as well as if the data is either required or not required (NULL or NOT NULL)\n",
                "- The final portion of the Code is an alteration of the Code. While this can be completed within the CREATE TABLE Code, it's more recommended to complete it via ALTER TABLE code as you can easily create a distintive name for the Constraint.\n",
                "    \n",
                "    - Adding a Key while creating the table makes it a bit more difficult with the naming convention.\n",
                "- A Unique Key which is shown at the last ALTER section is similar to a Primary Key as it ensures that all values in a column are different, meaning we will never have duplicates of the SalesPerson Column"
            ],
            "metadata": {
                "azdata_cell_guid": "1e14e1b5-b0ab-4825-a60b-f461f4ed4421"
            },
            "attachments": {}
        },
        {
            "cell_type": "code",
            "source": [
                "USE RHNSCC_DD;\r\n",
                "GO\r\n",
                "\r\n",
                "IF NOT EXISTS (SELECT * FROM INFORMATION_SCHEMA.TABLES WHERE TABLE_SCHEMA = 'dim' AND TABLE_NAME = 'Products')\r\n",
                "BEGIN\r\n",
                "\tCREATE TABLE dim.Products(\r\n",
                "\t\t  ProductID INT NOT NULL\r\n",
                "\t\t, Product NVARCHAR(50) NOT NULL\r\n",
                "\t\t, ProductCategory NVARCHAR(50) NOT NULL\r\n",
                "\t\t, ActiveFlag TINYINT NOT NULL\r\n",
                "\t\t);\r\n",
                "\r\n",
                "ALTER TABLE dim.Products\r\n",
                "ADD CONSTRAINT PK_Products PRIMARY KEY (ProductID)\r\n",
                "END\r\n",
                "\r\n",
                "GO\r\n",
                "\r\n",
                "IF NOT EXISTS (SELECT * FROM INFORMATION_SCHEMA.TABLES WHERE TABLE_SCHEMA = 'dim' AND TABLE_NAME = 'People')\r\n",
                "BEGIN\r\n",
                "\tCREATE TABLE dim.People(\r\n",
                "\t\tpkPeople INT IDENTITY(1000,1) NOT NULL\r\n",
                "\t  , SalesPerson NVARCHAR(50) NOT NULL\r\n",
                "\t  , Team NVARCHAR(50) NOT NULL\r\n",
                "\t  , Province NVARCHAR(20) NOT NULL\r\n",
                "\t  , Phone NVARCHAR(10) NULL\r\n",
                "\t  )  ;\r\n",
                "\r\n",
                "\tALTER TABLE dim.People\r\n",
                "\tADD CONSTRAINT PK_People_LUP PRIMARY KEY(pkPeople);\r\n",
                "\r\n",
                "\tALTER TABLE dim.People\r\n",
                "    ADD CONSTRAINT UC_SalesPerson UNIQUE (SalesPerson);\r\n",
                "END\r\n",
                ""
            ],
            "metadata": {
                "azdata_cell_guid": "12c2595f-4936-4ae4-be8f-7d12e02123f6",
                "language": "sql"
            },
            "outputs": [
                {
                    "output_type": "display_data",
                    "data": {
                        "text/html": "Commands completed successfully."
                    },
                    "metadata": {}
                },
                {
                    "output_type": "display_data",
                    "data": {
                        "text/html": "Commands completed successfully."
                    },
                    "metadata": {}
                },
                {
                    "output_type": "display_data",
                    "data": {
                        "text/html": "Commands completed successfully."
                    },
                    "metadata": {}
                },
                {
                    "output_type": "display_data",
                    "data": {
                        "text/html": "Total execution time: 00:00:00.031"
                    },
                    "metadata": {}
                }
            ],
            "execution_count": 6
        },
        {
            "cell_type": "markdown",
            "source": [
                "### **2.** The final Code of this Query will be the creation of the **Fact Table: f.Sales**\n",
                "\n",
                "Code Breakdown:\n",
                "\n",
                "- Please refer to the above Dimensions Table Code Breakdown above up to the creation of the table.\n",
                "- Adding Foreign Keys is very similar to adding Primary Keys however you are required to reference to the Primary Key of the table that the Foreign key has a relationship with. All other data remains constant."
            ],
            "metadata": {
                "language": "sql",
                "azdata_cell_guid": "3c523f4b-181d-48a5-945c-d7742081f51c"
            },
            "attachments": {}
        },
        {
            "cell_type": "code",
            "source": [
                "USE RHNSCC_DD;\r\n",
                "GO\r\n",
                "\r\n",
                "IF NOT EXISTS (SELECT * FROM INFORMATION_SCHEMA.TABLES WHERE TABLE_SCHEMA = 'f' AND TABLE_NAME = 'Sales')\r\n",
                "BEGIN\r\n",
                "\tCREATE TABLE f.Sales(\r\n",
                "\t\t  Product INT NOT NULL\r\n",
                "\t\t, SalesPerson INT NOT NULL\r\n",
                "\t\t, SalesDate DATE NOT NULL\r\n",
                "\t\t, TotalSales MONEY NOT NULL\r\n",
                "\t\t);\r\n",
                "\r\n",
                "\tALTER TABLE f.Sales\r\n",
                "\tADD CONSTRAINT FK_SALEStoPEOPLE FOREIGN KEY(SalesPerson)\r\n",
                "\tREFERENCES dim.People(pkPeople);\r\n",
                "\r\n",
                "\tALTER TABLE f.Sales\r\n",
                "\tADD CONSTRAINT FK_SALEStoPRODUCT FOREIGN KEY(Product)\r\n",
                "\tREFERENCES dim.Products(ProductID);\r\n",
                "\r\n",
                "END"
            ],
            "metadata": {
                "azdata_cell_guid": "7a0d6361-888d-4655-b880-267c795500a6",
                "language": "sql"
            },
            "outputs": [
                {
                    "output_type": "display_data",
                    "data": {
                        "text/html": "Commands completed successfully."
                    },
                    "metadata": {}
                },
                {
                    "output_type": "display_data",
                    "data": {
                        "text/html": "Commands completed successfully."
                    },
                    "metadata": {}
                },
                {
                    "output_type": "display_data",
                    "data": {
                        "text/html": "Total execution time: 00:00:00.009"
                    },
                    "metadata": {}
                }
            ],
            "execution_count": 7
        }
    ]
}